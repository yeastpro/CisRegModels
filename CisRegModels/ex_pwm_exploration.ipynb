{
 "cells": [
  {
   "cell_type": "code",
   "execution_count": 39,
   "metadata": {},
   "outputs": [],
   "source": [
    "fileName = 'ex_pwm.txt'\n",
    "BASES = ['A','T','G','C']"
   ]
  },
  {
   "cell_type": "code",
   "execution_count": 40,
   "metadata": {},
   "outputs": [
    {
     "ename": "TabError",
     "evalue": "inconsistent use of tabs and spaces in indentation (<ipython-input-40-ef810575460b>, line 19)",
     "output_type": "error",
     "traceback": [
      "\u001b[0;36m  File \u001b[0;32m\"<ipython-input-40-ef810575460b>\"\u001b[0;36m, line \u001b[0;32m19\u001b[0m\n\u001b[0;31m    else:\u001b[0m\n\u001b[0m         ^\u001b[0m\n\u001b[0;31mTabError\u001b[0m\u001b[0;31m:\u001b[0m inconsistent use of tabs and spaces in indentation\n"
     ]
    }
   ],
   "source": [
    "def loadPWM(fileName):\n",
    "\t\"\"\"\n",
    "\tLoads the positional weight matrix from a given input file.\n",
    "\t\"\"\"\n",
    "\tinFile = open(fileName,'r') ## Open the file of name inputted\n",
    "\tmat = {};\n",
    "\tmyLen = -1;\n",
    "\tcount = 0 ## keeps count of the number of lines iterated over in the loop below.\n",
    "\n",
    "\tfor line in inFile: ## Iterate over the lines in the input file.\n",
    "\t\tif line is None or line == \"\" or line[0]==\"#\": ## If true skip the line\n",
    "\t\t\tcontinue\n",
    "\t\tdata = line.rstrip().split(\"   \"); ## Get rid of whitespace and put tab-separated\n",
    "\t\t\t\t\t\t\t\t\t\t  ## tokens as separate elements in a list.\n",
    "\t\tcurBase = BASES[count]; ## Define the current base as the\n",
    "\t\tif data[0] in BASES:\n",
    "\t\t\tcurBase=data[0];\n",
    "\t\t\tdata=data[1:]\n",
    "        else:\n",
    "            pass\n",
    "\t\tdata = [float(d) for d in data]\n",
    "\t\tmat[curBase]=data\n",
    "\t\tif myLen != -1 and myLen != len(data): ## Comparing the length of a line to the previous line.\n",
    "\t\t\traise Exception('PWM does not have the same number of entries per row for %s' % (fileName));\n",
    "\t\tmyLen=len(data)\n",
    "\t\tcount += 1;\n",
    "\tinFile.close();\n",
    "\tif count != 4: ## There should only be four lines (for each base) in the input file.\n",
    "\t\traise Exception('PWM has the wrong number of rows for %s; count=%d' % (filename,count))\n",
    "\n",
    "\treturn mat"
   ]
  },
  {
   "cell_type": "code",
   "execution_count": 41,
   "metadata": {},
   "outputs": [],
   "source": [
    "mat = loadPWM(filename)"
   ]
  },
  {
   "cell_type": "code",
   "execution_count": 42,
   "metadata": {},
   "outputs": [
    {
     "data": {
      "text/plain": [
       "{'A': [0.0, 1.0, 0.0, 0.0],\n",
       " 'T': [1.0, 0.0, 0.0, 0.0],\n",
       " 'G': [0.0, 0.0, 1.0, 0.0],\n",
       " 'C': [0.0, 0.0, 0.0, 1.0]}"
      ]
     },
     "execution_count": 42,
     "metadata": {},
     "output_type": "execute_result"
    }
   ],
   "source": [
    "mat"
   ]
  },
  {
   "cell_type": "code",
   "execution_count": 15,
   "metadata": {},
   "outputs": [],
   "source": [
    "inFile = open(fileName,'r') ## Open the file of name inputted\n",
    "mat = {};\n",
    "myLen = -1;\n",
    "count = 0 ## keeps count of the number of lines iterated over in the loop below.\n",
    "\n",
    "for line in inFile: ## Iterate over the lines in the input file.\n",
    "    if line is None or line == \"\" or line[0]==\"#\": ## If true skip the line\n",
    "        continue\n",
    "    data = line.rstrip().split(\" \"); ## Get rid of whitespace and put tab-separated\n",
    "                                      ## tokens as separate elements in a list.\n",
    "    curBase = BASES[count]; ## Define the current base as the\n",
    "    if data[0] in BASES:\n",
    "        curBase=data[0];\n",
    "        data=data[1:]\n",
    "    else:\n",
    "        pass\n",
    "    data = [float(d) for d in data]\n",
    "    mat[curBase]=data\n",
    "    if myLen != -1 and myLen != len(data): ## Comparing the length of a line to the previous line.\n",
    "        raise Exception('PWM does not have the same number of entries per row for %s' % (fileName));\n",
    "    myLen=len(data)\n",
    "    count += 1;\n",
    "inFile.close();\n",
    "if count != 4: ## There should only be four lines (for each base) in the input file.\n",
    "    raise Exception('PWM has the wrong number of rows for %s; count=%d' % (filename,count))"
   ]
  },
  {
   "cell_type": "code",
   "execution_count": 16,
   "metadata": {},
   "outputs": [
    {
     "data": {
      "text/plain": [
       "{'A': [0.0, 1.0, 0.0, 0.0],\n",
       " 'T': [1.0, 0.0, 0.0, 0.0],\n",
       " 'G': [0.0, 0.0, 1.0, 0.0],\n",
       " 'C': [0.0, 0.0, 0.0, 1.0]}"
      ]
     },
     "execution_count": 16,
     "metadata": {},
     "output_type": "execute_result"
    }
   ],
   "source": [
    "mat"
   ]
  },
  {
   "cell_type": "code",
   "execution_count": 17,
   "metadata": {},
   "outputs": [],
   "source": [
    "import PWM"
   ]
  },
  {
   "cell_type": "code",
   "execution_count": 19,
   "metadata": {},
   "outputs": [],
   "source": [
    "test = PWM.PWM(mat)"
   ]
  },
  {
   "cell_type": "code",
   "execution_count": 20,
   "metadata": {},
   "outputs": [
    {
     "data": {
      "text/plain": [
       "<PWM.PWM at 0x10fed74a8>"
      ]
     },
     "execution_count": 20,
     "metadata": {},
     "output_type": "execute_result"
    }
   ],
   "source": [
    "test"
   ]
  },
  {
   "cell_type": "code",
   "execution_count": 21,
   "metadata": {},
   "outputs": [
    {
     "data": {
      "text/plain": [
       "PWM.PWM"
      ]
     },
     "execution_count": 21,
     "metadata": {},
     "output_type": "execute_result"
    }
   ],
   "source": [
    "type(test)"
   ]
  },
  {
   "cell_type": "code",
   "execution_count": 43,
   "metadata": {},
   "outputs": [
    {
     "data": {
      "text/plain": [
       "4"
      ]
     },
     "execution_count": 43,
     "metadata": {},
     "output_type": "execute_result"
    }
   ],
   "source": [
    "test.len()"
   ]
  },
  {
   "cell_type": "code",
   "execution_count": null,
   "metadata": {},
   "outputs": [],
   "source": []
  }
 ],
 "metadata": {
  "kernelspec": {
   "display_name": "Python (cisregmodels)",
   "language": "python",
   "name": "myenv"
  },
  "language_info": {
   "codemirror_mode": {
    "name": "ipython",
    "version": 3
   },
   "file_extension": ".py",
   "mimetype": "text/x-python",
   "name": "python",
   "nbconvert_exporter": "python",
   "pygments_lexer": "ipython3",
   "version": "3.6.8"
  }
 },
 "nbformat": 4,
 "nbformat_minor": 2
}
